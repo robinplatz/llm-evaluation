{
  "cells": [
    {
      "cell_type": "markdown",
      "metadata": {
        "id": "XNkpBtLvuTOp"
      },
      "source": [
        "### Run llama.cpp w/ textgen frontend over collab (llm evaluation)\n",
        "\n",
        "1. Run the install cell, may take up to or beyond 15 minutes\n",
        "2. Pick the Model from a cell below the installation\n",
        "* https://huggingface.co/QuantFactory/Meta-Llama-3-8B-Instruct-GGUF\n",
        "* https://huggingface.co/QuantFactory/Meta-Llama-3-70B-Instruct-GGUF\n",
        "* https://huggingface.co/TheBloke/dolphin-2.5-mixtral-8x7b-GGUF\n",
        "3. Click the gradio public link at the bottom"
      ]
    },
    {
      "cell_type": "markdown",
      "source": [
        "Install Environment"
      ],
      "metadata": {
        "id": "OL8MJX01XJdI"
      }
    },
    {
      "cell_type": "code",
      "execution_count": null,
      "metadata": {
        "id": "D-MiHp_bveP6"
      },
      "outputs": [],
      "source": [
        "%cd /content\n",
        "!apt-get -y install -qq aria2\n",
        "\n",
        "!git clone -b V20240418 https://github.com/Troyanovsky/text-generation-webui\n",
        "%cd /content/text-generation-webui\n",
        "!pip install -r requirements.txt\n",
        "!pip install -U gradio==4.26.0\n",
        "\n",
        "!pip uninstall -y llama-cpp-python -y\n",
        "!CMAKE_ARGS=\"-DLLAMA_CUBLAS=on\" FORCE_CMAKE=1 pip install llama-cpp-python --no-cache-dir\n",
        "\n",
        "!pip uninstall flash-attn -y\n",
        "!pip install --no-build-isolation flash-attn==2.5.6"
      ]
    },
    {
      "cell_type": "markdown",
      "source": [
        "Meta-Llama-3-8B-Instruct-GGUF"
      ],
      "metadata": {
        "id": "9J7nwjxYW5Zg"
      }
    },
    {
      "cell_type": "code",
      "source": [
        "!aria2c --console-log-level=error -c -x 16 -s 16 -k 1M https://huggingface.co/QuantFactory/Meta-Llama-3-8B-Instruct-GGUF/resolve/main/Meta-Llama-3-8B-Instruct.Q5_K_M.gguf?download=true -d /content/text-generation-webui/models/ -o Meta-Llama-3-8B-Instruct.Q5_K_M.gguf\n",
        "\n",
        "%cd /content/text-generation-webui\n",
        "!python server.py --share --n-gpu-layers 100000 --model Meta-Llama-3-8B-Instruct.Q5_K_M.gguf"
      ],
      "metadata": {
        "id": "Gxp7KdyOW8oA"
      },
      "execution_count": null,
      "outputs": []
    },
    {
      "cell_type": "markdown",
      "source": [
        "Meta-Llama-3-70B-Instruct-GGUF"
      ],
      "metadata": {
        "id": "7dEFWfn6W90f"
      }
    },
    {
      "cell_type": "code",
      "source": [
        "!aria2c --console-log-level=error -c -x 16 -s 16 -k 1M https://huggingface.co/QuantFactory/Meta-Llama-3-70B-Instruct-GGUF/resolve/main/Meta-Llama-3-70B-Instruct.Q4_K_M.gguf?download=true -d /content/text-generation-webui/models/ -o Meta-Llama-3-70B-Instruct.Q4_K_M.gguf\n",
        "\n",
        "%cd /content/text-generation-webui\n",
        "!python server.py --share --auto-devices --model Meta-Llama-3-70B-Instruct.Q4_K_M.gguf"
      ],
      "metadata": {
        "id": "_Rf3Id7JXQZ6"
      },
      "execution_count": null,
      "outputs": []
    },
    {
      "cell_type": "markdown",
      "source": [
        "dolphin-2.5-mixtral-8x7b-GGUF"
      ],
      "metadata": {
        "id": "JgHwuWi7XROV"
      }
    },
    {
      "cell_type": "code",
      "source": [
        "!aria2c --console-log-level=error -c -x 16 -s 16 -k 1M https://huggingface.co/TheBloke/dolphin-2.5-mixtral-8x7b-GGUF/resolve/main/dolphin-2.5-mixtral-8x7b.Q2_K.gguf?download=true -d /content/text-generation-webui/models/ -o dolphin-2.5-mixtral-8x7b.Q2_K.gguf\n",
        "\n",
        "%cd /content/text-generation-webui\n",
        "!python server.py --share --n-gpu-layers 20 --n_ctx 2048 --model dolphin-2.5-mixtral-8x7b.Q2_K.gguf"
      ],
      "metadata": {
        "id": "0Y2ftEAxXTAI"
      },
      "execution_count": null,
      "outputs": []
    }
  ],
  "metadata": {
    "accelerator": "GPU",
    "colab": {
      "provenance": []
    },
    "gpuClass": "standard",
    "kernelspec": {
      "display_name": "Python 3",
      "name": "python3"
    },
    "language_info": {
      "name": "python"
    }
  },
  "nbformat": 4,
  "nbformat_minor": 0
}
